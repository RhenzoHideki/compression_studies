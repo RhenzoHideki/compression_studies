{
 "cells": [
  {
   "cell_type": "markdown",
   "metadata": {},
   "source": [
    "# Information theory and Codinng\n",
    "\n",
    "|                               \t| Compression efficiency - \"Source coding\"                                                                                         \t| Error-Correction reliability - \"Channel code\"                                       \t|\n",
    "|-------------------------------\t|----------------------------------------------------------------------------------------------------------------------------------\t|-------------------------------------------------------------------------------------\t|\n",
    "| Information Theory - \"Math\"   \t| Lossless:<br><br>- Source coding theorem<br> <br>- Kraft–McMillan inequality<br><br>Lossy:<br>- Rate-distortion theorem<br><br>  \t| - Channel coding Theorem<br>- Typicality and Asymptotic equipartition property<br>  \t|\n",
    "| Coding methods - \"Algorithms\" \t| Symbol codec:<br>- Huffman code<br>Stream code:<br><br>- Arithmetic coding<br>- Lempel-Ziv                                       \t| - Hamming code<br>- BCH codes<br>- Turbo-codes<br>- Gallager codes (LDPC)           \t|\n",
    "\n",
    "\n",
    "# Aplication of Compression codes\n",
    "\n",
    "Huffman code &rarr; PNGG, JPEG, MPEG , MP3 , AAC , WinZip e Gzip\n",
    "\n",
    "Arithmetic coding &rarr; JPEG , MPEG , SKype, ppm , PAQ , JBIG\n",
    "\n",
    "Lempel-Ziv &rarr; PNG, Gid , PkZip, GZip, PDF\n",
    " \n",
    "\n",
    "\n"
   ]
  },
  {
   "cell_type": "markdown",
   "metadata": {},
   "source": []
  }
 ],
 "metadata": {
  "language_info": {
   "name": "python"
  }
 },
 "nbformat": 4,
 "nbformat_minor": 2
}
