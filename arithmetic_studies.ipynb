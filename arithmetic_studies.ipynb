{
 "cells": [
  {
   "cell_type": "markdown",
   "metadata": {},
   "source": [
    "# Information theory and Codinng\n",
    "\n",
    "|                               \t| Compression efficiency - \"Source coding\"                                                                                         \t| Error-Correction reliability - \"Channel code\"                                       \t|\n",
    "|-------------------------------\t|----------------------------------------------------------------------------------------------------------------------------------\t|-------------------------------------------------------------------------------------\t|\n",
    "| Information Theory - \"Math\"   \t| Lossless:<br><br>- Source coding theorem<br> <br>- Kraft–McMillan inequality<br><br>Lossy:<br>- Rate-distortion theorem<br><br>  \t| - Channel coding Theorem<br>- Typicality and Asymptotic equipartition property<br>  \t|\n",
    "| Coding methods - \"Algorithms\" \t| Symbol codec:<br>- Huffman code<br>Stream code:<br><br>- Arithmetic coding<br>- Lempel-Ziv                                       \t| - Hamming code<br>- BCH codes<br>- Turbo-codes<br>- Gallager codes (LDPC)           \t|\n",
    "\n",
    "\n",
    "# Aplication of Compression codes\n",
    "\n",
    "Huffman code &rarr; PNGG, JPEG, MPEG , MP3 , AAC , WinZip e Gzip\n",
    "\n",
    "Arithmetic coding &rarr; JPEG , MPEG , SKype, ppm , PAQ , JBIG\n",
    "\n",
    "Lempel-Ziv &rarr; PNG, Gid , PkZip, GZip, PDF\n",
    " \n",
    "\n",
    "\n"
   ]
  },
  {
   "cell_type": "markdown",
   "metadata": {},
   "source": []
  },
  {
   "cell_type": "markdown",
   "metadata": {},
   "source": [
    "# Why does interval have to be contained\n",
    "\n",
    "X - Alphabet\n",
    "\n",
    "C - code\n",
    "\n",
    "A* - bin string\n",
    "\n",
    "Before :\n",
    "\n",
    "$X$ $C:X\\to A*$ is prefix if $C(x_1)$ is not a prefix of $C(x_2)$ when $x_1 \\neq x_2$\n",
    "\n",
    "$X$ $C:X\\to A*$ is Uniquely Decodable if $C^*$ is 1 to 1 wheer $C^* (x_1 ... x_k)= C(x_1) ... C(x_k)$\n",
    "\n",
    "Now:\n",
    "\n",
    "$ X^⊛ : X^⊛\\{x_1 ... x_k : x_i \\in X /\\{0\\},k \\geq 0\\}$\n",
    "\n",
    "$X^⊛$ $C:X^⊛\\to A^*$ is prefix if $C(X^{(1)})$ is not a prefix of $C(x^{(2)})$ when $x^{(1)} \\neq x^{(2)}$\n",
    "\n",
    "$X^⊛$ $C:X^⊛\\to A^*$ - U.D. if $C^*$ is 1 to 1 where $C^*(x^{(1)}...x^{(k)}) = C(x^{(1)})...C(x^{(k)}) $\n",
    "\n",
    "\"Number version\" is not prefix, not even U.D.\n",
    "\n",
    "\n",
    "\"Interval version\" is prefix, Hence U.D.\n",
    "\n"
   ]
  },
  {
   "cell_type": "markdown",
   "metadata": {},
   "source": []
  }
 ],
 "metadata": {
  "language_info": {
   "name": "python"
  }
 },
 "nbformat": 4,
 "nbformat_minor": 2
}
